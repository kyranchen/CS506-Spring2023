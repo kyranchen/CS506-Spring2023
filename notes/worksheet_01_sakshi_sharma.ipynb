{
 "cells": [
  {
   "cell_type": "markdown",
   "source": [
    "a) what is the difference between git and github?\n",
    "git is a version control manager\n",
    "github is used to backup your code base on cloud"
   ],
   "metadata": {
    "collapsed": false
   }
  },
  {
   "cell_type": "markdown",
   "source": [
    "b) what command would you use to copy a repo locally?\n",
    "git clone"
   ],
   "metadata": {
    "collapsed": false
   }
  },
  {
   "cell_type": "markdown",
   "source": [
    "c) what button would you use to make a copy of a repo in GitHub?\n",
    "fork button"
   ],
   "metadata": {
    "collapsed": false
   }
  },
  {
   "cell_type": "markdown",
   "source": [
    "d) let's say you have a copy of a repo in GitHub but that repo changes, does your copy change too?\n",
    "No. We need to sync with main repo to fetch the changes"
   ],
   "metadata": {
    "collapsed": false
   }
  },
  {
   "cell_type": "markdown",
   "source": [
    "e) what are the three commands you use to create a new save point in your git repo and back it up to GitHub?\n",
    "- git add\n",
    "- git commit\n",
    "- git push"
   ],
   "metadata": {
    "collapsed": false
   }
  },
  {
   "cell_type": "markdown",
   "source": [
    "f) how would you make your copy change so that it has the most up-to-date version of the repo it is copied from?\n",
    "git pull"
   ],
   "metadata": {
    "collapsed": false
   }
  },
  {
   "cell_type": "markdown",
   "source": [
    "g) why are there sometimes conflicts between copied repos / branches? How do you resolve them?\n",
    "merge conflicts or rebase branch"
   ],
   "metadata": {
    "collapsed": false
   }
  },
  {
   "cell_type": "markdown",
   "source": [
    "h) describe all the steps needed to make a PR to contribute your notes to the class repository.\n",
    "- fork the repository\n",
    "- make changes in the forked repository\n",
    "- create a Pull Request in class repository to merge the forked repository to class repository"
   ],
   "metadata": {
    "collapsed": false
   }
  },
  {
   "cell_type": "markdown",
   "source": [
    "i) Write here some other commands we used in class and what they mean / how to use them:\n",
    "    - git status\n",
    "- git log\n",
    "- git rebase\n",
    "- git clone\n",
    "- git init\n",
    "- git pull\n",
    "- git push origin master -f\n",
    "- git checkout -b branch_name"
   ],
   "metadata": {
    "collapsed": false
   }
  }
 ],
 "metadata": {
  "kernelspec": {
   "display_name": "Python 3",
   "language": "python",
   "name": "python3"
  },
  "language_info": {
   "codemirror_mode": {
    "name": "ipython",
    "version": 2
   },
   "file_extension": ".py",
   "mimetype": "text/x-python",
   "name": "python",
   "nbconvert_exporter": "python",
   "pygments_lexer": "ipython2",
   "version": "2.7.6"
  }
 },
 "nbformat": 4,
 "nbformat_minor": 0
}
