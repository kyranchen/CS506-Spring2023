{
  "cells": [
    {
      "cell_type": "markdown",
      "metadata": {
        "id": "QWLzr31G8omP"
      },
      "source": [
        "# Worksheet 01\n",
        "\n",
        "Name: Smriti Suresh  \n",
        "UID: U83742024\n",
        "\n",
        "### Topics\n",
        "\n",
        "- Git\n",
        "\n",
        "## Prerequisites (installations)\n",
        "\n",
        "#### This is your checklist:\n",
        "\n",
        "- [x] Access to terminal\n",
        "- [x] Install Git\n",
        "- [x] Sign up for a GitHub account\n",
        "- [x] Choose editor\n",
        "- [x] Set up ssh keys\n",
        "- [x] Configure git\n",
        "\n",
        "### Step 1: Work Environment:  Access to Terminal \n",
        "\n",
        "- Mac/Linux: use **Terminal**\n",
        "- Windows:\n",
        "\t- Option 1:  [Power Shell](https://www.digitalcitizen.life/simple-questions-what-powershell-what-can-you-do-it)\n",
        "\t- Option 2:  Git Bash (recommended)\n",
        "\t\n",
        "### Step 2: Install Git\n",
        "\n",
        "- Mac:  \n",
        "\t- [Git](https://git-scm.com/download/mac)\n",
        "- Windows:  \n",
        "\t- [Git for Windows (Git Bash)](https://gitforwindows.org/)\n",
        "- Linux:\n",
        "\t- [Install Git on Linux](https://www.atlassian.com/git/tutorials/install-git#linux)\n",
        "\n",
        "Confirm Git is installed by typing `git --version` on your terminal\n",
        "\n",
        "### Step 3: Sign up for a GitHub Account\n",
        " \n",
        " Go to [github.com](https://github.com/)\n",
        "\n",
        "### Step 4: Choose a Graphical Editor\n",
        "\n",
        "- Try Visual Studio Code\n",
        "\t* [Visual Studio Code](https://visualstudio.microsoft.com/downloads/)\n",
        "- OR one of these other editors\n",
        "\t* [Sublime Text 3](https://www.sublimetext.com/)\n",
        "\t* [Atom](https://atom.io/) \n",
        "\t* [Notepad++](https://notepad-plus-plus.org/) (for Windows)\n",
        "\n",
        "### Step 5: SSH Setup\n",
        "\n",
        "#### Mac & Linux Users\n",
        "\n",
        "Go to home directory (in terminal)\n",
        "\n",
        "```bash\n",
        "% cd ~\n",
        "% pwd\n",
        "/Users/gallettilance\n",
        "```\n",
        "\n",
        "Go to `.ssh` directory\n",
        "\n",
        "```bash\n",
        "% pwd\n",
        "/Users/gallettilance\n",
        "% cd .ssh\n",
        "% pwd\n",
        "/Users/gallettilance/.ssh \n",
        "```\n",
        "\n",
        "**Note:**  If you do not have the `.ssh` directory, you can create it\n",
        "\n",
        "- if you are in your home directory:\n",
        "\t- <kbd> mkdir .ssh </kbd>  \n",
        "- if you are not in your home directory:\n",
        "\t- <kbd> mkdir ~/.ssh </kbd>  \n",
        "\n",
        "Generate `id_rsa` keypair files if needed\n",
        "\n",
        "- **Note:**  these `id_rsa` files contain a special password for your computer to be connect to network services (Ex:  GitHub, AWS).\n",
        "- Check to see if these files exist by typing <kbd> ls -alt</kbd>\n",
        "- If you do not have these two files (`id_rsa` and `id_rsa.pub`), create them by typing:  \n",
        "\t- <kbd> ssh-keygen</kbd>\n",
        "\t- Hit  <kbd> enter  </kbd> **3 times**\n",
        "\n",
        "```bash\n",
        "% pwd \n",
        "/Users/gallettilance/.ssh\n",
        "% ls\n",
        "% ssh-keygen\n",
        "Generating public/private rsa key pair.\n",
        "Enter file in which to save the key (/Users/gallettilance/.ssh/id_rsa): \n",
        "Enter passphrase (empty for no passphrase): \n",
        "Enter same passphrase again: \n",
        "Your identification has been saved in /Users/gallettilance/.ssh/id_rsa.\n",
        "Your public key has been saved in /Users/gallettilance/.ssh/id_rsa.pub.\n",
        "The key fingerprint is:\n",
        "SHA256:jmDJes1qOzDi8KynXLGQ098JMSRnbIyt0w7vSgEsr2E gallettilance@RESHAMAs-MacBook-Pro.local\n",
        "The key's randomart image is:\n",
        "+---[RSA 2048]----+\n",
        "|   .=+           |\n",
        "|.  .==           |\n",
        "|.o  +o           |\n",
        "|..+= oo          |\n",
        "|.E.+X.  S        |\n",
        "|+o=o=*oo.        |\n",
        "|++.*o.+o.        |\n",
        "|..*.oo           |\n",
        "|o= o+o           |\n",
        "+----[SHA256]-----+\n",
        "% ls\n",
        "total 16\n",
        "-rw-------  1   1675 Dec 17 12:20 id_rsa\n",
        "-rw-r--r--  1    422 Dec 17 12:20 id_rsa.pub\n",
        "% \n",
        "```\n",
        "\n",
        "Navigate to the `.ssh` directory\n",
        "\n",
        "<kbd> cd ~/.ssh </kbd>  \n",
        "\n",
        "open `id_rsa.pub` using your editor of choice and copy its contents. Add `ssh` key to GitHub by following these steps:\n",
        "\n",
        "- go to your [GitHub account](https://github.com/) (create one if you don't have one, and save your user name and password somewhere easily accessible for you.)\n",
        "- click on your avatar/profile picture (upper right of screen)\n",
        "- go to `Settings`\n",
        "- on left of screen, select `SSH and GPG keys`\n",
        "- Select <kbd> New SSH key </kbd>\n",
        "- for \"Title\":  entitle it  \"GitHub key\"\n",
        "- for \"Key\":  paste key from clipboard here\n",
        "- click <kbd> Add SSH key </kbd>\n",
        "- save, exit, confirm GitHub password as requested\n",
        "\n",
        "#### Windows Users\n",
        "\n",
        "Follow [How to Create SSH Keys with PuTTY on Windows](https://www.digitalocean.com/docs/droplets/how-to/add-ssh-keys/create-with-putty/)\n",
        "\n",
        "### Step 6: Configure Git\n",
        "\n",
        "#### Configure user name and email (lets Git know who you are)\n",
        "\n",
        "<kbd> git config --global user.name \"First Last\"  </kbd>  \n",
        "<kbd> git config --global user.email \"myname@email.com\"  </kbd>  \n",
        "\n",
        "To verify these additions, type:  \n",
        "<kbd> git config --list  </kbd>  \n",
        "\n",
        "#### Default Editor\n",
        "\n",
        "The default editor will be [Vim](https://vim.rtorr.com/). You may want to look up how to edit, save, and close vim as this can't be done with just point and click (you must use the vim commands)."
      ]
    },
    {
      "cell_type": "markdown",
      "metadata": {
        "id": "X027wzAr8omR"
      },
      "source": [
        "### Git / GitHub\n",
        "\n",
        "a) what is the difference between git and github?"
      ]
    },
    {
      "cell_type": "markdown",
      "metadata": {
        "id": "_Jou5plB8omR"
      },
      "source": [
        "GitHub is an Online distributed system for keeping a backup of your files and acting as a host for it. GitHub is accessed through a Web Browser.\n",
        "Git is the version control software present on your local machine. Git is accessed via a terminal."
      ]
    },
    {
      "cell_type": "markdown",
      "metadata": {
        "id": "TMz1fiE68omR"
      },
      "source": [
        "b) what command would you use to copy a repo locally?"
      ]
    },
    {
      "cell_type": "code",
      "execution_count": null,
      "metadata": {
        "id": "n0U7aAB18omR"
      },
      "outputs": [],
      "source": [
        "git clone <repository-url>"
      ]
    },
    {
      "cell_type": "markdown",
      "metadata": {
        "id": "oyQ-zI508omS"
      },
      "source": [
        "c) what button would you use to make a copy of a repo in GitHub?"
      ]
    },
    {
      "cell_type": "markdown",
      "metadata": {
        "id": "GeorDVqR8omS"
      },
      "source": [
        "fork"
      ]
    },
    {
      "cell_type": "markdown",
      "metadata": {
        "id": "6lsWPByO8omS"
      },
      "source": [
        "d) let's say you have a copy of a repo in GitHub but that repo changes, does your copy change too?"
      ]
    },
    {
      "cell_type": "markdown",
      "metadata": {
        "id": "AU2p-hpg8omS"
      },
      "source": [
        "No the copy does not change automatically, we would need to pull/fetch the changes from the repo to get the updated version using git fetch and git merge/rebase OR git pull upstream."
      ]
    },
    {
      "cell_type": "markdown",
      "metadata": {
        "id": "T8HKxzaP8omS"
      },
      "source": [
        "e) what are the three commands you use to create a new save point in your git repo and back it up to GitHub?"
      ]
    },
    {
      "cell_type": "code",
      "execution_count": null,
      "metadata": {
        "id": "UOYkQqqt8omS"
      },
      "outputs": [],
      "source": [
        "git add file\n",
        "git commit -m \"update command\"\n",
        "git pull origin main #checking in case of new changes\n",
        "git push origin main"
      ]
    },
    {
      "cell_type": "markdown",
      "metadata": {
        "id": "QjJzvQ9j8omS"
      },
      "source": [
        "f) how would you make your copy change so that it has the most up-to-date version of the repo it is copied from?"
      ]
    },
    {
      "cell_type": "markdown",
      "metadata": {
        "id": "jSkD-eA_8omS"
      },
      "source": [
        "We would perform git pull OR first perform git fetch and then git rebase."
      ]
    },
    {
      "cell_type": "markdown",
      "metadata": {
        "id": "x6zQkPGO8omS"
      },
      "source": [
        "g) why are there sometimes conflicts between copied repos / branches? How do you resolve them?"
      ]
    },
    {
      "cell_type": "markdown",
      "metadata": {
        "id": "cS33qI4P8omT"
      },
      "source": [
        "Conflicts between copied repos/branches arise because the state of one repo/branch differs from the other, due to uncommitted code or inconsistent updates to the data without prior pulling/fetching changes from the other repo/branch. We resolve conflicts using the git log --merge command to check the commits that may be causing the conflicts. If we wanted to go back to the state before the commit we could perform a git reset command. Usually conflicts need to be solved manually, but git can help in guiding you to the lines that are conflicted. "
      ]
    },
    {
      "cell_type": "markdown",
      "metadata": {
        "id": "lPhm_4wt8omT"
      },
      "source": [
        "h) describe all the steps needed to make a PR to contribute your notes to the class repository."
      ]
    },
    {
      "cell_type": "markdown",
      "metadata": {
        "id": "3UGp4F-J8omT"
      },
      "source": [
        "1. Fork the class repo\n",
        "2. Clone the repo to local machine\n",
        "3. Add new files/changes to code (local machine repo)\n",
        "4. Commit new code with message\n",
        "5. Push your changes. (Check if new changes were made using git pull before pushing)\n",
        "6. On GitHub, either click Compare & Pull Request button on forked repo OR go to class repo and create a new pull request.\n",
        "7. Select the forked repo in the dropdown for the comparison.\n",
        "8. Enter title/description of the PR. Create the PR.\n"
      ]
    },
    {
      "cell_type": "markdown",
      "metadata": {
        "id": "ECUD36sr8omT"
      },
      "source": [
        "i) Write here some other commands we used in class and what they mean / how to use them:"
      ]
    },
    {
      "cell_type": "markdown",
      "metadata": {
        "id": "i_vI8WOM8omT"
      },
      "source": [
        "1. git checkout -b branch-name : switch branches or create new branch if it doesn't exist\n",
        "2. git log : shows all the commit logs in reverse chronological order\n",
        "3. git rebase origin main : takes the commits from the current branch and moves it to the head of the origin branch"
      ]
    }
  ],
  "metadata": {
    "kernelspec": {
      "display_name": "Python 3",
      "language": "python",
      "name": "python3"
    },
    "language_info": {
      "name": "python",
      "version": "3.9.0 (tags/v3.9.0:9cf6752, Oct  5 2020, 15:34:40) [MSC v.1927 64 bit (AMD64)]"
    },
    "orig_nbformat": 4,
    "vscode": {
      "interpreter": {
        "hash": "a35dd61a5f06ddbbe02dbf8cc8984ad09fdd3407289a67dbdb66dd7e982718d7"
      }
    },
    "colab": {
      "provenance": []
    }
  },
  "nbformat": 4,
  "nbformat_minor": 0
}