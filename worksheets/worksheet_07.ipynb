{
 "cells": [
  {
   "attachments": {},
   "cell_type": "markdown",
   "metadata": {},
   "source": [
    "# Worksheet 07\n",
    "\n",
    "Name:  Kyran Chen\n",
    "UID: U51754657\n",
    "\n",
    "### Topics\n",
    "\n",
    "- Soft Clustering\n",
    "- Clustering Aggregation\n",
    "\n",
    "### Probability Review\n",
    "\n",
    "Read through [the following](https://medium.com/@gallettilance/overview-of-probability-3272b72c82c8)\n",
    "\n",
    "### Soft Clustering\n",
    "\n",
    "We generate 10 data points that come from a normal distribution with mean 5 and variance 1."
   ]
  },
  {
   "cell_type": "code",
   "execution_count": 2,
   "metadata": {},
   "outputs": [
    {
     "name": "stdout",
     "output_type": "stream",
     "text": [
      "[3.120443086099532, 5.912152565461835, 6.840591188373563, 5.833378403512388, 4.582205241182426, 4.039229004714928, 6.806937111608163, 3.0560755519020217, 5.539136049486776, 5.706002039478168]\n"
     ]
    }
   ],
   "source": [
    "import random\n",
    "import numpy as np\n",
    "from sklearn.cluster import KMeans\n",
    "\n",
    "mean = 5\n",
    "stdev = 1\n",
    "\n",
    "c1 = np.random.normal(mean, stdev, 10).tolist()\n",
    "print(c1)"
   ]
  },
  {
   "cell_type": "markdown",
   "metadata": {},
   "source": [
    "a) Generate 10 more data points, this time coming from a normal distribution with mean 8 and variance 1."
   ]
  },
  {
   "cell_type": "code",
   "execution_count": 3,
   "metadata": {},
   "outputs": [
    {
     "name": "stdout",
     "output_type": "stream",
     "text": [
      "[7.947055506102483, 7.95138222140581, 8.29538541610029, 7.655207330670481, 8.464189993275683, 8.694285407441509, 9.786137669635455, 9.359775304927485, 7.0720279262947825, 9.14331306504068]\n"
     ]
    }
   ],
   "source": [
    "c2 = np.random.normal( 8 , 1 , 10 ).tolist()\n",
    "print(c2)"
   ]
  },
  {
   "cell_type": "markdown",
   "metadata": {},
   "source": [
    "b) Flip a fair coin 10 times. If the coin lands on H, then pick the last data point of `c1` and remove it from `c1`, if T then pick the last data point from `c2` and remove it from `c2`. Add these 10 points to a list called `data`."
   ]
  },
  {
   "cell_type": "code",
   "execution_count": 4,
   "metadata": {},
   "outputs": [
    {
     "name": "stdout",
     "output_type": "stream",
     "text": [
      "[5.706002039478168, 9.14331306504068, 5.539136049486776, 3.0560755519020217, 7.0720279262947825, 6.806937111608163, 9.359775304927485, 9.786137669635455, 4.039229004714928, 8.694285407441509]\n"
     ]
    }
   ],
   "source": [
    "data = []\n",
    "for i in range(10):\n",
    "    # flip coin\n",
    "    coin_output = random.choice([0, 1])\n",
    "    if coin_output == 0:\n",
    "        p1 = c1.pop()\n",
    "        data.append(p1)\n",
    "    else:\n",
    "        p2 = c2.pop()\n",
    "        data.append(p2)\n",
    "print(data)"
   ]
  },
  {
   "cell_type": "markdown",
   "metadata": {},
   "source": [
    "c) This `data` is a Gaussian Mixture Distribution with 2 mixture components. Over the next few questions we will walk through the GMM algorithm to see if we can uncover the parameters we used to generate this data. First, please list all these parameters of the GMM that created `data` and the values we know they have."
   ]
  },
  {
   "attachments": {},
   "cell_type": "markdown",
   "metadata": {},
   "source": [
    "The mean, standard deviation of two clusters.\n",
    "Mean1 = 5, Std1 = 1\n",
    "Mean2 = 8, Std2 = 1"
   ]
  },
  {
   "cell_type": "markdown",
   "metadata": {},
   "source": [
    "d) Let's assume there are two mixture components (note: we could plot the data and make the observation that there are two clusters). The EM algorithm asks us to start with a random `mean_j`, `variance_j`, `P(C_j)` for each component j. One method we could use to find sensible values for these is to apply K means with k=2 here.\n",
    "\n",
    "1. the centroids would be the estimates of the `mean_j`\n",
    "2. the intra-cluster variance could be the estimate of `variance_j`\n",
    "3. the proportion of points in each cluster could be the estimate of `P(C_j)`\n",
    "\n",
    "Go through this process and list the parameter estimates it gives. Are they close or far from the true values?"
   ]
  },
  {
   "cell_type": "code",
   "execution_count": 5,
   "metadata": {},
   "outputs": [
    {
     "name": "stdout",
     "output_type": "stream",
     "text": [
      "[5.706002039478168, 5.539136049486776, 3.0560755519020217, 4.039229004714928]\n",
      "[9.14331306504068, 7.0720279262947825, 6.806937111608163, 9.359775304927485, 9.786137669635455, 8.694285407441509]\n",
      "P(C_1) = 0.4,  P(C_2) = 0.6\n",
      "mean_1 = 4.585110661395474,  mean_2 = 8.477079414158013\n",
      "var_1 = 1.2006242679367078,  var_2 = 1.2912293778691437\n"
     ]
    }
   ],
   "source": [
    "kmeans = KMeans(2, init='k-means++').fit(X=np.array(data).reshape(-1, 1))\n",
    "\n",
    "c1 = [x[0] for x in filter(lambda x: x[1] == 0, zip(data, kmeans.labels_))]\n",
    "print(c1)\n",
    "c2 = [x[0] for x in filter(lambda x: x[1] == 1, zip(data, kmeans.labels_))]\n",
    "print(c2)\n",
    "\n",
    "prob_c = [ len(c1) / (len(c1) + len(c2)) , len(c2) / (len(c1) + len(c2)) ]\n",
    "mean = [ sum(c1)/len(c1) , sum(c2) / len(c2) ]\n",
    "var = [ sum(map(lambda x : (x - mean[0])**2, c1)) / len(c1) , sum(map(lambda x : (x - mean[1])**2, c2)) / len(c2) ]\n",
    "\n",
    "print(\"P(C_1) = \" + str(prob_c[0]) + \",  P(C_2) = \" + str(prob_c[1]))\n",
    "print(\"mean_1 = \" + str(mean[0]) + \",  mean_2 = \" + str(mean[1]))\n",
    "print(\"var_1 = \" + str(var[0]) + \",  var_2 = \" + str(var[1]))"
   ]
  },
  {
   "cell_type": "markdown",
   "metadata": {},
   "source": []
  },
  {
   "cell_type": "markdown",
   "metadata": {},
   "source": [
    "e) For each data point, compute `P(C_j | X_i)`. Comment on which cluster you think each point belongs to based on the estimated probabilities. How does that compare to the truth?"
   ]
  },
  {
   "cell_type": "code",
   "execution_count": 6,
   "metadata": {},
   "outputs": [
    {
     "name": "stdout",
     "output_type": "stream",
     "text": [
      "point =  5.706002039478168\n",
      "probability of observing that point if it came from cluster 0 =  0.2149014423653725\n",
      "probability of observing that point if it came from cluster 1 =  0.030888971792472207\n",
      "point =  9.14331306504068\n",
      "probability of observing that point if it came from cluster 0 =  0.0002463915398173045\n",
      "probability of observing that point if it came from cluster 1 =  0.27045622151613896\n",
      "point =  5.539136049486776\n",
      "probability of observing that point if it came from cluster 0 =  0.24232367593325024\n",
      "probability of observing that point if it came from cluster 1 =  0.02321296101146908\n",
      "point =  3.0560755519020217\n",
      "probability of observing that point if it came from cluster 0 =  0.14767758783323123\n",
      "probability of observing that point if it came from cluster 1 =  4.597051314190765e-05\n",
      "point =  7.0720279262947825\n",
      "probability of observing that point if it came from cluster 0 =  0.03888942898789917\n",
      "probability of observing that point if it came from cluster 1 =  0.17091845327738506\n",
      "point =  6.806937111608163\n",
      "probability of observing that point if it came from cluster 0 =  0.05996074928816317\n",
      "probability of observing that point if it came from cluster 1 =  0.1338492085877548\n",
      "point =  9.359775304927485\n",
      "probability of observing that point if it came from cluster 0 =  0.00012226468063966778\n",
      "probability of observing that point if it came from cluster 1 =  0.24458463711955186\n",
      "point =  9.786137669635455\n",
      "probability of observing that point if it came from cluster 0 =  2.7963423694891722e-05\n",
      "probability of observing that point if it came from cluster 1 =  0.18480828170132657\n",
      "point =  4.039229004714928\n",
      "probability of observing that point if it came from cluster 0 =  0.2996499729245773\n",
      "probability of observing that point if it came from cluster 1 =  0.000841151797311848\n",
      "point =  8.694285407441509\n",
      "probability of observing that point if it came from cluster 0 =  0.0009503861662387703\n",
      "probability of observing that point if it came from cluster 1 =  0.3046225873511379\n",
      "5.706002039478168\n",
      "Probability of coming from C_1 = 0.8226368005227618\n",
      "Probability of coming from C_2 = 0.17736319947723816\n",
      "\n",
      "9.14331306504068\n",
      "Probability of coming from C_1 = 0.0006069792833177787\n",
      "Probability of coming from C_2 = 0.9993930207166822\n",
      "\n",
      "5.539136049486776\n",
      "Probability of coming from C_1 = 0.8743629578915\n",
      "Probability of coming from C_2 = 0.12563704210849994\n",
      "\n",
      "3.0560755519020217\n",
      "Probability of coming from C_1 = 0.9995332833646642\n",
      "Probability of coming from C_2 = 0.000466716635335809\n",
      "\n",
      "7.0720279262947825\n",
      "Probability of coming from C_1 = 0.13170931612483233\n",
      "Probability of coming from C_2 = 0.8682906838751676\n",
      "\n",
      "6.806937111608163\n",
      "Probability of coming from C_1 = 0.22996855034936098\n",
      "Probability of coming from C_2 = 0.7700314496506391\n",
      "\n",
      "9.359775304927485\n",
      "Probability of coming from C_1 = 0.00033314697649696834\n",
      "Probability of coming from C_2 = 0.999666853023503\n",
      "\n",
      "9.786137669635455\n",
      "Probability of coming from C_1 = 0.00010086345680295022\n",
      "Probability of coming from C_2 = 0.9998991365431971\n",
      "\n",
      "4.039229004714928\n",
      "Probability of coming from C_1 = 0.9958069835989568\n",
      "Probability of coming from C_2 = 0.004193016401043284\n",
      "\n",
      "8.694285407441509\n",
      "Probability of coming from C_1 = 0.0020756034533903124\n",
      "Probability of coming from C_2 = 0.9979243965466097\n",
      "\n"
     ]
    }
   ],
   "source": [
    "from scipy.stats import norm\n",
    "\n",
    "prob_c0_x = [] # P(C_0 | X_i)\n",
    "prob_c1_x = [] # P(C_1 | X_i)\n",
    "prob_x = [] # P(X_i)\n",
    "\n",
    "k = 2\n",
    "\n",
    "for p in data:\n",
    "    print(\"point = \", p)\n",
    "    pdf_i = []\n",
    "\n",
    "    for j in range(k):\n",
    "        # P(X_i | C_j)\n",
    "        pdf_i.append(norm.pdf(p, mean[j], var[j]))\n",
    "        print(\"probability of observing that point if it came from cluster \" + str(j) + \" = \", pdf_i[j])\n",
    "        # P(C_j) already computed\n",
    "        prob_c[j]\n",
    "\n",
    "    # P(X_i) = P(C_0)P(X_i | C_0) + P(C_1)P(X_i | C_1)\n",
    "    prob_x = prob_c[0] * pdf_i[0] + prob_c[1] * pdf_i[1]\n",
    "\n",
    "    # P(C_j | X_i) = P(X_i | C_j)P(C_j) / P(X_i)\n",
    "    prob_c0_x.append( pdf_i[0] * prob_c[0] / prob_x )\n",
    "    prob_c1_x.append( pdf_i[1] * prob_c[1] / prob_x )\n",
    "\n",
    "probs = zip(data, prob_c0_x, prob_c1_x)\n",
    "for p in probs:\n",
    "    print(p[0])\n",
    "    print(\"Probability of coming from C_1 = \" + str(p[1]))\n",
    "    print(\"Probability of coming from C_2 = \" + str(p[2]))\n",
    "    print()\n"
   ]
  },
  {
   "cell_type": "markdown",
   "metadata": {},
   "source": [
    "f) Having computed `P(C_j | X_i)`, update the estimates of `mean_j`, `var_j`, and `P(C_j)`. How different are these values from the original ones you got from K means? briefly comment."
   ]
  },
  {
   "cell_type": "code",
   "execution_count": 7,
   "metadata": {},
   "outputs": [
    {
     "name": "stdout",
     "output_type": "stream",
     "text": [
      "P(C_1) = 0.4057134485022084,  P(C_2) = 0.5942865514977915\n",
      "mean_1 = 4.717284761213463,  mean_2 = 8.424262727124443\n",
      "var_1 = 1.5774443904082396,  var_2 = 1.57688147900911\n"
     ]
    }
   ],
   "source": [
    "prob_c = [sum(prob_c0_x)/ len(prob_c0_x), sum(prob_c1_x) / len(prob_c1_x)]\n",
    "mean = [sum([x[0] * x[1] for x in zip(prob_c0_x, data)]) / sum(prob_c0_x),  \n",
    "        sum([x[0] * x[1] for x in zip(prob_c1_x, data)]) / sum(prob_c1_x)]\n",
    "var = [sum([prob_c0_x[i] * (data[i] - mean[0])**2 for i in range(len(data))]) / sum(prob_c0_x), \n",
    "        sum([prob_c1_x[i] * (data[i] - mean[1])**2 for i in range(len(data))]) / sum(prob_c1_x)]\n",
    "\n",
    "print(\"P(C_1) = \" + str(prob_c[0]) + \",  P(C_2) = \" + str(prob_c[1]))\n",
    "print(\"mean_1 = \" + str(mean[0]) + \",  mean_2 = \" + str(mean[1]))\n",
    "print(\"var_1 = \" + str(var[0]) + \",  var_2 = \" + str(var[1]))"
   ]
  },
  {
   "cell_type": "markdown",
   "metadata": {},
   "source": []
  },
  {
   "cell_type": "markdown",
   "metadata": {},
   "source": [
    "g) Update `P(C_j | X_i)`. Comment on any differences or lack thereof you observe."
   ]
  },
  {
   "cell_type": "code",
   "execution_count": 8,
   "metadata": {},
   "outputs": [
    {
     "name": "stdout",
     "output_type": "stream",
     "text": [
      "5.706002039478168\n",
      "Probability of coming from C_1 = 0.7124428313857142\n",
      "Probability of coming from C_2 = 0.2875571686142857\n",
      "\n",
      "9.14331306504068\n",
      "Probability of coming from C_1 = 0.014565536644452797\n",
      "Probability of coming from C_2 = 0.9854344633555472\n",
      "\n",
      "5.539136049486776\n",
      "Probability of coming from C_1 = 0.7606051149336538\n",
      "Probability of coming from C_2 = 0.2393948850663462\n",
      "\n",
      "3.0560755519020217\n",
      "Probability of coming from C_1 = 0.9922943577829086\n",
      "Probability of coming from C_2 = 0.007705642217091411\n",
      "\n",
      "7.0720279262947825\n",
      "Probability of coming from C_1 = 0.24442881704154903\n",
      "Probability of coming from C_2 = 0.7555711829584509\n",
      "\n",
      "6.806937111608163\n",
      "Probability of coming from C_1 = 0.324422929525124\n",
      "Probability of coming from C_2 = 0.6755770704748759\n",
      "\n",
      "9.359775304927485\n",
      "Probability of coming from C_1 = 0.010593690338180868\n",
      "Probability of coming from C_2 = 0.9894063096618192\n",
      "\n",
      "9.786137669635455\n",
      "Probability of coming from C_1 = 0.005641896794137021\n",
      "Probability of coming from C_2 = 0.9943581032058629\n",
      "\n",
      "4.039229004714928\n",
      "Probability of coming from C_1 = 0.9674549419809916\n",
      "Probability of coming from C_2 = 0.03254505801900847\n",
      "\n",
      "8.694285407441509\n",
      "Probability of coming from C_1 = 0.028043573432053794\n",
      "Probability of coming from C_2 = 0.9719564265679461\n",
      "\n"
     ]
    }
   ],
   "source": [
    "prob_c0_x = []\n",
    "prob_c1_x = []\n",
    "\n",
    "for p in data:\n",
    "    pdf_i = [norm.pdf(p, mean[j], var[j]) for j in range(k)]\n",
    "    prob_x = prob_c[0] * pdf_i[0] + prob_c[1] * pdf_i[1]\n",
    "\n",
    "    prob_c0_x.append(pdf_i[0] * prob_c[0] / prob_x)\n",
    "    prob_c1_x.append(pdf_i[1] * prob_c[1] / prob_x)\n",
    "\n",
    "probs = zip(data, prob_c0_x, prob_c1_x)\n",
    "for p in probs:\n",
    "    print(p[0])\n",
    "    print(\"Probability of coming from C_1 = \" + str(p[1]))\n",
    "    print(\"Probability of coming from C_2 = \" + str(p[2]))\n",
    "    print()"
   ]
  },
  {
   "cell_type": "markdown",
   "metadata": {},
   "source": []
  },
  {
   "cell_type": "markdown",
   "metadata": {},
   "source": [
    "h) Use `P(C_j | X_i)` to create a hard assignment - label each point as belonging to a specific cluster (0 or 1)"
   ]
  },
  {
   "cell_type": "code",
   "execution_count": 9,
   "metadata": {},
   "outputs": [
    {
     "name": "stdout",
     "output_type": "stream",
     "text": [
      "[0, 1, 0, 0, 1, 1, 1, 1, 0, 1]\n"
     ]
    }
   ],
   "source": [
    "labels = []\n",
    "\n",
    "for i in range(len(data)):\n",
    "    if prob_c0_x[i] > prob_c1_x[i]:\n",
    "        labels.append(0)\n",
    "    else:\n",
    "        labels.append(1)\n",
    "\n",
    "print(labels)"
   ]
  },
  {
   "cell_type": "markdown",
   "metadata": {},
   "source": [
    "### Clustering Aggregation\n",
    "\n",
    "| Point | C | P |\n",
    "|-------|---|---|\n",
    "| A     | 0 | a |\n",
    "| B     | 0 | b |\n",
    "| C     | 2 | b |\n",
    "| D     | 1 | c |\n",
    "| E     | 1 | d |\n",
    "\n",
    "a) Fill in the following table where for each pair of points determine whether C and P agree or disagree on how to cluster that pair."
   ]
  },
  {
   "cell_type": "markdown",
   "metadata": {},
   "source": [
    "| Pair | Disagreement |\n",
    "|------|--------------|\n",
    "| A  B |      ?       |\n",
    "| A  C |      ?       |\n",
    "| A  D |      ?       |\n",
    "| A  E |      ?       |\n",
    "| B  C |      ?       |\n",
    "| B  D |      ?       |\n",
    "| B  E |      ?       |\n",
    "| C  D |      ?       |\n",
    "| C  E |      ?       |\n",
    "| D  E |      ?       |\n"
   ]
  },
  {
   "cell_type": "markdown",
   "metadata": {},
   "source": [
    "As datasets become very large, this process can become computationally challenging.\n",
    "\n",
    "b) Given N points, what is the formula for the number of unique pairs of points one can create?"
   ]
  },
  {
   "cell_type": "markdown",
   "metadata": {},
   "source": []
  },
  {
   "cell_type": "markdown",
   "metadata": {},
   "source": [
    "Assume that clustering C clusters all points in the same cluster and clustering P clusters points as such:\n",
    "\n",
    "| Point | P |\n",
    "|-------|---|\n",
    "| A     | 0 |\n",
    "| B     | 0 |\n",
    "| C     | 0 |\n",
    "| D     | 1 |\n",
    "| E     | 1 |\n",
    "| F     | 2 |\n",
    "| G     | 2 |\n",
    "| H     | 2 |\n",
    "| I     | 2 |\n",
    "\n",
    "c) What is the maximum number of disagreements there could be for a dataset of this size? (use the formula from b)?"
   ]
  },
  {
   "cell_type": "markdown",
   "metadata": {},
   "source": []
  },
  {
   "cell_type": "markdown",
   "metadata": {},
   "source": [
    "d) If we look at cluster 0. There are (3 x 2) / 2 = 3 pairs that agree with C (since all points in C are in the same cluster). For each cluster, determine how many agreements there are. How many total agreements are there? How many disagreements does that mean there are between C and P?"
   ]
  },
  {
   "cell_type": "markdown",
   "metadata": {},
   "source": []
  },
  {
   "cell_type": "markdown",
   "metadata": {},
   "source": [
    "e) Assuming that filtering the dataset by cluster number is a computationally easy operation, describe an algorithm inspired by the above process that can efficiently compute disagreement distances on large datasets."
   ]
  },
  {
   "cell_type": "markdown",
   "metadata": {},
   "source": []
  }
 ],
 "metadata": {
  "kernelspec": {
   "display_name": "base",
   "language": "python",
   "name": "python3"
  },
  "language_info": {
   "codemirror_mode": {
    "name": "ipython",
    "version": 3
   },
   "file_extension": ".py",
   "mimetype": "text/x-python",
   "name": "python",
   "nbconvert_exporter": "python",
   "pygments_lexer": "ipython3",
   "version": "3.7.11"
  },
  "orig_nbformat": 4,
  "vscode": {
   "interpreter": {
    "hash": "7b0b147c437fed5f118698b1cd1e8a3034cb030e5e784a082dc70ef32cce7bcf"
   }
  }
 },
 "nbformat": 4,
 "nbformat_minor": 2
}
