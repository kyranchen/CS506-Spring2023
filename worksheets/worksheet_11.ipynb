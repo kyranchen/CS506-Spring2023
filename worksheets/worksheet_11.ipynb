{
 "cells": [
  {
   "attachments": {},
   "cell_type": "markdown",
   "metadata": {},
   "source": [
    "# Worksheet 11\n",
    "\n",
    "Name:  Kyran Chen\n",
    "UID: U51754657\n",
    "\n",
    "### Topics\n",
    "\n",
    "- Decision Trees\n",
    "\n",
    "### Decision Trees"
   ]
  },
  {
   "cell_type": "code",
   "execution_count": 26,
   "metadata": {},
   "outputs": [],
   "source": [
    "from IPython.display import Image\n",
    "#Image(filename=\"tree.jpg\", width=500, height=300)"
   ]
  },
  {
   "cell_type": "markdown",
   "metadata": {},
   "source": [
    "Using the above Decision Tree, what class would you predict for the following unseen record:\n",
    "\n",
    "| Refund | Marital Status | Income |\n",
    "|--------|----------------|--------|\n",
    "| No     | Married        | 90k    |"
   ]
  },
  {
   "attachments": {},
   "cell_type": "markdown",
   "metadata": {},
   "source": [
    "No"
   ]
  },
  {
   "attachments": {},
   "cell_type": "markdown",
   "metadata": {},
   "source": [
    "Working with a dataset that attempts to understand the relationship between `heart disease` and whether or not a person experiences `chest_pain` and/or has `thalassemia`. All the attributes are binary (either 0 or 1) for simplicity. "
   ]
  },
  {
   "cell_type": "code",
   "execution_count": 27,
   "metadata": {},
   "outputs": [],
   "source": [
    "import numpy as np\n",
    "\n",
    "data = np.genfromtxt(fname='./dataset.tsv', delimiter = '\\t', names = True)"
   ]
  },
  {
   "attachments": {},
   "cell_type": "markdown",
   "metadata": {},
   "source": [
    "a) Before splitting the dataset at all, we observe the following distribution of 1s and 0s in the `heart_disease` class:"
   ]
  },
  {
   "cell_type": "code",
   "execution_count": 28,
   "metadata": {},
   "outputs": [
    {
     "name": "stdout",
     "output_type": "stream",
     "text": [
      "[1. 0. 0. 0. 0. 0. 1. 1. 1. 0. 1. 0. 1. 0. 1. 1. 0. 0. 1. 0. 0. 0. 0. 0.\n",
      " 0. 1. 1. 1.]\n"
     ]
    }
   ],
   "source": [
    "print(data[\"heart_disease\"])"
   ]
  },
  {
   "cell_type": "markdown",
   "metadata": {},
   "source": [
    "write a function that calculates the GINI of that node."
   ]
  },
  {
   "cell_type": "code",
   "execution_count": 29,
   "metadata": {},
   "outputs": [
    {
     "name": "stdout",
     "output_type": "stream",
     "text": [
      "GINI of the node is  0.48979591836734704\n"
     ]
    }
   ],
   "source": [
    "def gini(data, target_name):\n",
    "    frequencies = [\n",
    "        np.mean(data[target_name]),\n",
    "        1 - np.mean(data[target_name])\n",
    "    ]\n",
    "    return 1 - sum([f**2 for f in frequencies])\n",
    "\n",
    "print(\"GINI of the node is \", gini(data, \"heart_disease\"))"
   ]
  },
  {
   "attachments": {},
   "cell_type": "markdown",
   "metadata": {},
   "source": [
    "b) Write a function that computes the gini of a split."
   ]
  },
  {
   "cell_type": "code",
   "execution_count": 30,
   "metadata": {},
   "outputs": [
    {
     "name": "stdout",
     "output_type": "stream",
     "text": [
      "GINI of split on thalassemia =  0.23469387755102047\n",
      "GINI of split on chest_pain =  0.4419642857142857\n"
     ]
    }
   ],
   "source": [
    "def gini_split(data, attr, target_name):\n",
    "    ginis = [\n",
    "        len(data[data[attr] == 0]) * gini(data[data[attr] == 0], target_name),\n",
    "        len(data[data[attr] == 1]) * gini(data[data[attr] == 1], target_name)\n",
    "    ]\n",
    "\n",
    "    return sum(ginis) / len(data)\n",
    "\n",
    "print(\"GINI of split on thalassemia = \", gini_split(data, \"thalassemia\", \"heart_disease\"))\n",
    "print(\"GINI of split on chest_pain = \", gini_split(data, \"chest_pain\", \"heart_disease\"))"
   ]
  },
  {
   "attachments": {},
   "cell_type": "markdown",
   "metadata": {},
   "source": [
    "We can represent a decision tree recursively with the `Node` class below."
   ]
  },
  {
   "cell_type": "code",
   "execution_count": 31,
   "metadata": {},
   "outputs": [
    {
     "name": "stdout",
     "output_type": "stream",
     "text": [
      "A = 0: \n",
      "| B = 0: \n",
      "| | vote = 0\n",
      "| B = 1: \n",
      "| | vote = 1\n",
      "A = 1: \n",
      "| C = 0: \n",
      "| | vote = 0\n",
      "| C = 1: \n",
      "| | vote = 1\n",
      "\n"
     ]
    }
   ],
   "source": [
    "class Node:\n",
    "    def __init__(self, attribute):\n",
    "        self.attr = attribute\n",
    "        self.left = None\n",
    "        self.right = None\n",
    "        self.vote = None\n",
    "    \n",
    "    def _node_at(self, depth):\n",
    "        pretty_print = \"\"\n",
    "        if self.left is not None:\n",
    "            for _ in range(depth):\n",
    "                pretty_print += \"| \"\n",
    "            pretty_print += self.attr + ' = 0: \\n'\n",
    "            pretty_print += self.left._node_at(depth + 1)\n",
    "    \n",
    "        if self.right is not None:\n",
    "            for _ in range(depth):\n",
    "                pretty_print += \"| \"\n",
    "            pretty_print += self.attr + ' = 1: \\n'\n",
    "            pretty_print += self.right._node_at(depth + 1)\n",
    "        \n",
    "        if self.right is None and self.left is None:\n",
    "            for _ in range(depth):\n",
    "                pretty_print += \"| \"\n",
    "            pretty_print += \"vote = \" + str(self.vote) + '\\n'\n",
    "        \n",
    "        return pretty_print\n",
    "\n",
    "    def __repr__(self):\n",
    "        return self._node_at(0)\n",
    "    \n",
    "B = Node(\"B\")\n",
    "C = Node(\"C\")\n",
    "left_leaf = Node(\"leaf\")\n",
    "left_leaf.vote = 0\n",
    "right_leaf = Node(\"leaf\")\n",
    "right_leaf.vote = 1\n",
    "\n",
    "B.right = right_leaf\n",
    "B.left = left_leaf\n",
    "C.right = right_leaf\n",
    "C.left = left_leaf\n",
    "\n",
    "tree = Node(\"A\")\n",
    "tree.left = B\n",
    "tree.right = C\n",
    "\n",
    "print(tree)"
   ]
  },
  {
   "attachments": {},
   "cell_type": "markdown",
   "metadata": {},
   "source": [
    "Each node is defined by splitting the dataset on a specific attribute. If the attribute value is 0, we explore the left node, if the attribute value is 1, we explore the right node. The left and right nodes are both of type `Node`. If the node has no left node and no right node then it is a leaf node and should contain a vote for what class should be predicted.\n",
    "\n",
    "c) Write a function that takes in a decision tree and a data point, and walks through the tree based on the data point's attribute values to predict its class."
   ]
  },
  {
   "cell_type": "code",
   "execution_count": 32,
   "metadata": {},
   "outputs": [
    {
     "name": "stdout",
     "output_type": "stream",
     "text": [
      "1\n",
      "0\n",
      "0\n",
      "1\n"
     ]
    }
   ],
   "source": [
    "def predict(tree : Node, example):\n",
    "    if tree.left is None and tree.right is None:\n",
    "        return tree.vote\n",
    "    \n",
    "    if example[tree.attr] == 0:\n",
    "        return predict(tree.left, example)\n",
    "\n",
    "    if example[tree.attr] == 1:\n",
    "        return predict(tree.right, example)\n",
    "\n",
    "    \n",
    "\n",
    "print(predict(tree, {\"A\": 0, \"B\": 1, \"C\": 0})) # A -> B -> right\n",
    "print(predict(tree, {\"A\": 0, \"B\": 0, \"C\": 0})) # A -> B -> left\n",
    "print(predict(tree, {\"A\": 1, \"B\": 1, \"C\": 0})) # A -> C -> left\n",
    "print(predict(tree, {\"A\": 1, \"B\": 1, \"C\": 1})) # A -> C -> right\n"
   ]
  },
  {
   "attachments": {},
   "cell_type": "markdown",
   "metadata": {},
   "source": [
    "d) Write a function that finds the best attribute to split on wrt the GINI of the split. Recall a smaller GINI is better."
   ]
  },
  {
   "cell_type": "code",
   "execution_count": 33,
   "metadata": {},
   "outputs": [],
   "source": [
    "def get_best_attribute(data, target_name):\n",
    "    best_attr = {\n",
    "        'attr' : None, \n",
    "        'gini' : None\n",
    "    }\n",
    "    for attr in data.dtype.names:\n",
    "        if attr != target_name:\n",
    "            gini_attr = gini_split(data, attr, target_name)\n",
    "            if best_attr['gini'] is None or gini_attr > best_attr['gini']:\n",
    "                best_attr['attr'] = attr\n",
    "                best_attr['gini'] = gini_attr\n",
    "    \n",
    "    return best_attr['attr']"
   ]
  },
  {
   "attachments": {},
   "cell_type": "markdown",
   "metadata": {},
   "source": [
    "e) Complete the code below to build a `SimpleDecisionTree` on the dataset provided."
   ]
  },
  {
   "cell_type": "code",
   "execution_count": 34,
   "metadata": {},
   "outputs": [
    {
     "name": "stdout",
     "output_type": "stream",
     "text": [
      "chest_pain = 0: \n",
      "| chest_pain = 0: \n",
      "| | vote = 1\n",
      "| chest_pain = 1: \n",
      "| | vote = 0\n",
      "chest_pain = 1: \n",
      "| chest_pain = 0: \n",
      "| | vote = 0\n",
      "| chest_pain = 1: \n",
      "| | vote = 0\n",
      "\n"
     ]
    },
    {
     "name": "stderr",
     "output_type": "stream",
     "text": [
      "/Users/kyranchen/Library/Python/3.9/lib/python/site-packages/numpy/core/fromnumeric.py:3464: RuntimeWarning: Mean of empty slice.\n",
      "  return _methods._mean(a, axis=axis, dtype=dtype,\n",
      "/Users/kyranchen/Library/Python/3.9/lib/python/site-packages/numpy/core/_methods.py:192: RuntimeWarning: invalid value encountered in scalar divide\n",
      "  ret = ret.dtype.type(ret / rcount)\n"
     ]
    }
   ],
   "source": [
    "class SimpleDecisionTree:\n",
    "    \n",
    "    def __init__(self, max_depth, data, target_name):\n",
    "        self.max_depth = max_depth\n",
    "        self.data = data\n",
    "        self.target_name = target_name\n",
    "        self.tree = None\n",
    "        self.default_class = None\n",
    "\n",
    "\n",
    "    def __repr__(self):\n",
    "        return self.tree.__repr__()\n",
    "\n",
    "\n",
    "    def get_subset(self, data, attr):\n",
    "        subset_1 = data[data[attr] == 0]\n",
    "        subset_2 = data[data[attr] == 1]\n",
    "        return subset_1, subset_2\n",
    "\n",
    "\n",
    "    def gini_split(self, data, attr):\n",
    "        ginis = [\n",
    "            len(data[data[attr] == 0]) * gini(data[data[attr] == 0], self.target_name),\n",
    "            len(data[data[attr] == 1]) * gini(data[data[attr] == 1], self.target_name)\n",
    "        ]\n",
    "\n",
    "        return sum(ginis) / len(data)\n",
    "\n",
    "\n",
    "    def get_majority_vote(self, data):\n",
    "        if np.mean(data[self.target_name]) > 0.5:\n",
    "            return 1\n",
    "        return 0\n",
    "\n",
    "\n",
    "    def get_best_attribute(self, data):        \n",
    "        best_attr = {\n",
    "            'attr' : None, \n",
    "            'gini' : None\n",
    "        }\n",
    "        for attr in data.dtype.names:\n",
    "            if attr != self.target_name:\n",
    "                gini_attr = gini_split(data, attr, self.target_name)\n",
    "                if best_attr['gini'] is None or gini_attr > best_attr['gini']:\n",
    "                    best_attr['attr'] = attr\n",
    "                    best_attr['gini'] = gini_attr\n",
    "    \n",
    "        return best_attr['attr']\n",
    "\n",
    "\n",
    "    def build_tree(self, data, depth):        \n",
    "        attr = self.get_best_attribute(data)\n",
    "        node = Node(attr)\n",
    "        if depth == 0:\n",
    "            if data is None:\n",
    "                node.vote = self.default_class\n",
    "            else:\n",
    "                node.vote = self.get_majority_vote(data)\n",
    "            return node\n",
    "        \n",
    "        left, right = self.get_subset(data, node.attr)\n",
    "\n",
    "        node.left = self.build_tree(left, depth - 1)\n",
    "        node.right = self.build_tree(right, depth - 1)\n",
    "\n",
    "        if node.left is None and node.right is None:\n",
    "            node.vote = self.get_majority_vote(data)\n",
    "            \n",
    "        return node\n",
    "\n",
    "\n",
    "    def train(self):\n",
    "        if self.max_depth > len(self.data.dtype.names) - 1:\n",
    "            self.max_depth = len(self.data.dtype.names) - 1\n",
    "\n",
    "        self.default_class = self.get_majority_vote(self.data)\n",
    "        self.tree = self.build_tree(self.data, self.max_depth)\n",
    "\n",
    "\n",
    "simple_tree = SimpleDecisionTree(2, data, \"heart_disease\")\n",
    "simple_tree.train()\n",
    "\n",
    "print(simple_tree)"
   ]
  }
 ],
 "metadata": {
  "kernelspec": {
   "display_name": "Python 3",
   "language": "python",
   "name": "python3"
  },
  "language_info": {
   "codemirror_mode": {
    "name": "ipython",
    "version": 3
   },
   "file_extension": ".py",
   "mimetype": "text/x-python",
   "name": "python",
   "nbconvert_exporter": "python",
   "pygments_lexer": "ipython3",
   "version": "3.9.4"
  },
  "orig_nbformat": 4,
  "vscode": {
   "interpreter": {
    "hash": "767d51c1340bd893661ea55ea3124f6de3c7a262a8b4abca0554b478b1e2ff90"
   }
  }
 },
 "nbformat": 4,
 "nbformat_minor": 2
}
