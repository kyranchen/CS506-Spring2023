{
 "cells": [
  {
   "attachments": {},
   "cell_type": "markdown",
   "metadata": {},
   "source": [
    "# Worksheet 12\n",
    "\n",
    "Name:  Kyran Chen\n",
    "UID: U51754657\n",
    "\n",
    "### Topics\n",
    "\n",
    "- Naive Bayes\n",
    "- Model Evaluation\n",
    "\n",
    "### Naive Bayes\n",
    "\n",
    "| Attribute A | Attribute B | Attribute C | Class |\n",
    "|-------------|-------------|-------------|-------|\n",
    "| Yes         | Single      | High        | No    |\n",
    "| No          | Married     | Mid         | No    |\n",
    "| No          | Single      | Low         | No    |\n",
    "| Yes         | Married     | High        | No    |\n",
    "| No          | Divorced    | Mid         | Yes   |\n",
    "| No          | Married     | Low         | No    |\n",
    "| Yes         | Divorced    | High        | No    |\n",
    "| No          | Single      | Mid         | Yes   |\n",
    "| No          | Married     | Low         | No    |\n",
    "| No          | Single      | Mid         | Yes   |\n",
    "\n",
    "a) Compute the following probabilities:\n",
    "\n",
    "- P(Attribute A = Yes | Class = No)\n",
    "- P(Attribute B = Divorced | Class = Yes)\n",
    "- P(Attribute C = High | Class = No)\n",
    "- P(Attribute C = Mid | Class = Yes)"
   ]
  },
  {
   "attachments": {},
   "cell_type": "markdown",
   "metadata": {},
   "source": [
    "1. 3/7\n",
    "2. 1/3\n",
    "3. 3/7\n",
    "4. 1"
   ]
  },
  {
   "cell_type": "markdown",
   "metadata": {},
   "source": [
    "b) Classify the following unseen records:\n",
    "\n",
    "- (Yes, Married, Mid)\n",
    "- (No, Divorced, High)\n",
    "- (No, Single, High)\n",
    "- (No, Divorced, Low)"
   ]
  },
  {
   "attachments": {},
   "cell_type": "markdown",
   "metadata": {},
   "source": [
    "1. No\n",
    "2. No\n",
    "3. No\n",
    "4. No"
   ]
  },
  {
   "cell_type": "markdown",
   "metadata": {},
   "source": [
    "### Model Evaluation\n",
    "\n",
    "a) Write a function to generate the confusion matrix for a list of actual classes and a list of predicted classes"
   ]
  },
  {
   "cell_type": "code",
   "execution_count": 3,
   "metadata": {},
   "outputs": [
    {
     "name": "stdout",
     "output_type": "stream",
     "text": [
      "[[0.2, 0.1], [0.30000000000000004, 0.4]]\n"
     ]
    }
   ],
   "source": [
    "actual_class = [\"Yes\", \"No\", \"No\", \"Yes\", \"No\", \"No\", \"Yes\", \"No\", \"No\", \"No\"]\n",
    "predicted_class = [\"Yes\", \"No\", \"Yes\", \"No\", \"No\", \"No\", \"Yes\", \"Yes\", \"Yes\", \"No\"]\n",
    "\n",
    "def confusion_matrix(actual, predicted):\n",
    "    matrix = [[0, 0], [0, 0]]\n",
    "    for i in range(len(actual_class)):\n",
    "        a = actual_class[i]\n",
    "        p = predicted_class[i]\n",
    "\n",
    "        if a == \"Yes\" and p == \"Yes\":\n",
    "            matrix[0][0] += 1/len(actual_class)\n",
    "        elif a == \"No\" and p == \"No\":\n",
    "            matrix[1][1] += 1/len(actual_class)\n",
    "        elif a == \"No\" and p == \"Yes\":\n",
    "            #False positive\n",
    "            matrix[1][0] += 1/len(actual_class)\n",
    "        else:\n",
    "            #False negative\n",
    "            matrix[0][1] += 1/len(actual_class)\n",
    "    \n",
    "    return matrix\n",
    "\n",
    "print(confusion_matrix(actual_class, predicted_class))"
   ]
  },
  {
   "cell_type": "markdown",
   "metadata": {},
   "source": [
    "b) Assume you have the following Cost Matrix:\n",
    "\n",
    "|            | predicted = Y | predicted = N |\n",
    "|------------|---------------|---------------|\n",
    "| actual = Y |       -1      |       5       |\n",
    "| actual = N |        10     |       0       |\n",
    "\n",
    "What is the cost of the above classification?"
   ]
  },
  {
   "attachments": {},
   "cell_type": "markdown",
   "metadata": {},
   "source": [
    "-1 * 0.2 + 5 * 0.1 + 10 * 0.3 = 3.3"
   ]
  },
  {
   "cell_type": "markdown",
   "metadata": {},
   "source": [
    "c) Write a function that takes in the actual values, the predictions, and a cost matrix and outputs a cost. Test it on the above example."
   ]
  },
  {
   "cell_type": "code",
   "execution_count": 4,
   "metadata": {},
   "outputs": [
    {
     "name": "stdout",
     "output_type": "stream",
     "text": [
      "[[0.2, 0.1], [0.30000000000000004, 0.4]]\n",
      "3.3000000000000003\n"
     ]
    }
   ],
   "source": [
    "def cost(actual_class, predicted_class, cost_matrix):\n",
    "    matrix = [[0, 0], [0, 0]]\n",
    "    for i in range(len(actual_class)):\n",
    "        a = actual_class[i]\n",
    "        p = predicted_class[i]\n",
    "\n",
    "        if a == \"Yes\" and p == \"Yes\":\n",
    "            matrix[0][0] += 1/len(actual_class)\n",
    "        elif a == \"No\" and p == \"No\":\n",
    "            matrix[1][1] += 1/len(actual_class)\n",
    "        elif a == \"No\" and p == \"Yes\":\n",
    "            #False positive\n",
    "            matrix[1][0] += 1/len(actual_class)\n",
    "        else:\n",
    "            #False negative\n",
    "            matrix[0][1] += 1/len(actual_class)\n",
    "    \n",
    "    total_cost = 0\n",
    "    for i in range(2):\n",
    "        for j in range(2):\n",
    "            total_cost += matrix[i][j] * cost_matrix[i][j]\n",
    "    \n",
    "    return total_cost\n",
    "\n",
    "cost_matrix = [[-1, 5], [10, 0]]\n",
    "\n",
    "print(confusion_matrix(actual_class, predicted_class))\n",
    "print(cost(actual_class, predicted_class, cost_matrix))\n"
   ]
  },
  {
   "attachments": {},
   "cell_type": "markdown",
   "metadata": {},
   "source": [
    "d) What is the difference between a testing set and a validation set?"
   ]
  },
  {
   "attachments": {},
   "cell_type": "markdown",
   "metadata": {},
   "source": [
    "Validation sets are used for tuning parameters, while testing sets are used for testing"
   ]
  },
  {
   "attachments": {},
   "cell_type": "markdown",
   "metadata": {},
   "source": [
    "e) What are some things you can do to handle the case where you have a highly imbalanced dataset (i.e. there are way more of one class than another). Describe both how you can provide better visibility into the failures of the model and how you can set your model training up for success."
   ]
  },
  {
   "attachments": {},
   "cell_type": "markdown",
   "metadata": {},
   "source": [
    "Designing a cost matrix can evaluate the imbalanced dataset in a more specfic way. Using ensemble methods, such as bagging or boosting, can train multiple models at the same time. "
   ]
  }
 ],
 "metadata": {
  "kernelspec": {
   "display_name": "Python 3",
   "language": "python",
   "name": "python3"
  },
  "language_info": {
   "codemirror_mode": {
    "name": "ipython",
    "version": 3
   },
   "file_extension": ".py",
   "mimetype": "text/x-python",
   "name": "python",
   "nbconvert_exporter": "python",
   "pygments_lexer": "ipython3",
   "version": "3.9.4"
  },
  "orig_nbformat": 4,
  "vscode": {
   "interpreter": {
    "hash": "e7370f93d1d0cde622a1f8e1c04877d8463912d04d973331ad4851f04de6915a"
   }
  }
 },
 "nbformat": 4,
 "nbformat_minor": 2
}
