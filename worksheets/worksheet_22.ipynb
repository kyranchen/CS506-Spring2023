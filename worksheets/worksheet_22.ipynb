{
 "cells": [
  {
   "attachments": {},
   "cell_type": "markdown",
   "metadata": {},
   "source": [
    "# Worksheet 22\n",
    "\n",
    "Name: Kyran Chen \n",
    "UID: U51754657\n",
    "\n",
    "### Topics\n",
    "\n",
    "- Networks & Graphs\n",
    "\n",
    "## Networks & Graphs\n",
    "\n",
    "a) For each of the following, give an example of a question about a graph that is faster to answer when the graph is stored as:\n",
    "\n",
    "- an adjacency matrix\n",
    "- an adjacency list"
   ]
  },
  {
   "attachments": {},
   "cell_type": "markdown",
   "metadata": {},
   "source": [
    "1. Remove the edge between node i and node j. Using an adjacency matrix would be more efficient as we only need to change matrix[i][j] to 0.\n",
    "\n",
    "2. For a given node n, determine whether every other node in the graph G is connected to that node. Using an adjacency list would be easier since you only need to check if the adjacency list at node n has the same length as the number of nodes minus 1 in G."
   ]
  },
  {
   "cell_type": "markdown",
   "metadata": {},
   "source": [
    "b) Load the following graph using the networkx library\n",
    "\n",
    "```\n",
    "A : {B, C}\n",
    "B : {A, D, E}\n",
    "C : {A, F}\n",
    "E : {B, G, H}\n",
    "```\n"
   ]
  },
  {
   "cell_type": "code",
   "execution_count": 7,
   "metadata": {},
   "outputs": [
    {
     "name": "stdout",
     "output_type": "stream",
     "text": [
      "['A', 'B', 'C', 'D', 'E', 'F', 'G', 'H']\n"
     ]
    }
   ],
   "source": [
    "import networkx as nx\n",
    "\n",
    "G = nx.Graph()\n",
    "G.add_node('A')\n",
    "G.add_nodes_from(['B', 'C'])\n",
    "G.add_edge('A', 'B')\n",
    "G.add_edge('A', 'C')\n",
    "\n",
    "G.add_nodes_from(['D', 'E', 'F', 'G', 'H'])\n",
    "G.add_edge('B', 'D')\n",
    "G.add_edge('B', 'E')\n",
    "G.add_edge('C', 'F')\n",
    "G.add_edge('E', 'G')\n",
    "G.add_edge('E', 'H')\n",
    "\n",
    "print(G.nodes())"
   ]
  },
  {
   "cell_type": "markdown",
   "metadata": {},
   "source": [
    "c) Print the following about the graph:\n",
    "\n",
    "- the diameter\n",
    "- the neighbors of node `A`\n",
    "- the density\n",
    "- degree centrality\n",
    "- closeness centrality\n",
    "- betweenness centrality"
   ]
  },
  {
   "cell_type": "code",
   "execution_count": 13,
   "metadata": {},
   "outputs": [
    {
     "name": "stdout",
     "output_type": "stream",
     "text": [
      "Diameter in G is  5\n",
      "B\n",
      "C\n",
      "Density in G is  0.25\n",
      "{'A': 0.2857142857142857, 'B': 0.42857142857142855, 'C': 0.2857142857142857, 'D': 0.14285714285714285, 'E': 0.42857142857142855, 'F': 0.14285714285714285, 'G': 0.14285714285714285, 'H': 0.14285714285714285}\n",
      "{'A': 0.5, 'B': 0.5833333333333334, 'C': 0.3888888888888889, 'D': 0.3888888888888889, 'E': 0.5, 'F': 0.2916666666666667, 'G': 0.35, 'H': 0.35}\n",
      "{'A': 0.47619047619047616, 'B': 0.7142857142857142, 'C': 0.2857142857142857, 'D': 0.0, 'E': 0.5238095238095237, 'F': 0.0, 'G': 0.0, 'H': 0.0}\n"
     ]
    }
   ],
   "source": [
    "print(\"Diameter in G is \", nx.diameter(G))\n",
    "for item in nx.neighbors(G, 'A'):\n",
    "    print(item)\n",
    "\n",
    "print(\"Density in G is \", nx.density(G))\n",
    "\n",
    "print(nx.degree_centrality(G))\n",
    "print(nx.closeness_centrality(G))\n",
    "print(nx.betweenness_centrality(G))"
   ]
  },
  {
   "cell_type": "markdown",
   "metadata": {},
   "source": [
    "d) What is the Kendall-Tau distance between the following rankings:\n",
    "\n",
    "\n",
    "|   | R_1 | R_2 |\n",
    "|---|-----|-----|\n",
    "| A | 1   |  5  |\n",
    "| B | 2   |  6  |\n",
    "| C | 3   |  7  |\n",
    "| D | 4   |  4  |\n",
    "| E | 5   |  1  |\n",
    "| F | 6   |  2  |\n",
    "| G | 7   |  3  |"
   ]
  },
  {
   "attachments": {},
   "cell_type": "markdown",
   "metadata": {},
   "source": [
    "Agree: (A, B), (A, C), (B, C), (E, F), (E, G), (F, G)\n",
    "\n",
    "Disagree: (A, D), (A, E), (A, F), (A, G), (B, D), (B, E), (B, F), (B, G), (C, D), (C, E), (C, F),(C, G), (D, E), (D, F), (D, G)\n",
    "\n",
    "Kendall-Tau distance is 5/7"
   ]
  }
 ],
 "metadata": {
  "kernelspec": {
   "display_name": "Python 3",
   "language": "python",
   "name": "python3"
  },
  "language_info": {
   "codemirror_mode": {
    "name": "ipython",
    "version": 3
   },
   "file_extension": ".py",
   "mimetype": "text/x-python",
   "name": "python",
   "nbconvert_exporter": "python",
   "pygments_lexer": "ipython3",
   "version": "3.7.11"
  },
  "orig_nbformat": 4,
  "vscode": {
   "interpreter": {
    "hash": "e7370f93d1d0cde622a1f8e1c04877d8463912d04d973331ad4851f04de6915a"
   }
  }
 },
 "nbformat": 4,
 "nbformat_minor": 2
}
